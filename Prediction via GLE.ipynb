{
 "cells": [
  {
   "cell_type": "code",
   "execution_count": 1,
   "id": "c22f79bb",
   "metadata": {},
   "outputs": [],
   "source": [
    "import numpy as np\n",
    "import matplotlib.pyplot as plt\n",
    "import os\n",
    "import pandas as pd\n",
    "from sklearn.metrics import r2_score\n"
   ]
  },
  {
   "cell_type": "code",
   "execution_count": 2,
   "id": "b7ed7611",
   "metadata": {},
   "outputs": [
    {
     "data": {
      "text/plain": [
       "'/home/users/t_wand01/Promotion/GLE Estimation/GLE Estimation Weekly/FirstPart0.9'"
      ]
     },
     "execution_count": 2,
     "metadata": {},
     "output_type": "execute_result"
    }
   ],
   "source": [
    "os.chdir(\"FirstPart0.9\")\n",
    "os.getcwd()"
   ]
  },
  {
   "cell_type": "code",
   "execution_count": 3,
   "id": "9e9fd651",
   "metadata": {},
   "outputs": [],
   "source": [
    "\n",
    "from os import listdir\n",
    "\n",
    "directory_path = '.'\n",
    "file_types = ['npy', 'npz']\n",
    "\n",
    "np_vars = {dir_content: np.load(dir_content)\n",
    "           for dir_content in listdir(directory_path)\n",
    "           if dir_content.split('.')[-1] in file_types}"
   ]
  },
  {
   "cell_type": "code",
   "execution_count": 4,
   "id": "1424a9f2",
   "metadata": {},
   "outputs": [
    {
     "name": "stdout",
     "output_type": "stream",
     "text": [
      "simulatedDataX_B10_K6_MAP.npy\n",
      "theta_meanEst_B10_K6.npy\n",
      "binsX_B10.npy\n",
      "credibleIntervals_B10_K6.npy\n",
      "SecondPart_WeeklyCorr.npy\n",
      "MCMCsamples_raw_B10_K6.npy\n",
      "MCMCsamples_B10_K6.npy\n",
      "edgesX_B10.npy\n",
      "theta_MAPest_B10_K6.npy\n",
      "coeff_B10_K6.npy\n",
      "FirstPart_WeeklyCorr.npy\n",
      "simulatedDataX_B10_K6_mean.npy\n",
      "theta_direct_SLE_B10.npy\n",
      "n_bin_B10_K6.npy\n"
     ]
    }
   ],
   "source": [
    "for i in np_vars.keys():\n",
    "    print(i)"
   ]
  },
  {
   "cell_type": "code",
   "execution_count": 5,
   "id": "4fa70df1",
   "metadata": {},
   "outputs": [
    {
     "data": {
      "text/plain": [
       "'/home/users/t_wand01/Promotion/GLE Estimation/GLE Estimation Weekly/Predict'"
      ]
     },
     "execution_count": 5,
     "metadata": {},
     "output_type": "execute_result"
    }
   ],
   "source": [
    "os.chdir(\"..\")\n",
    "os.getcwd()\n",
    "os.chdir(\"Predict\")\n",
    "os.getcwd()"
   ]
  },
  {
   "cell_type": "markdown",
   "id": "b439b696",
   "metadata": {},
   "source": [
    "## Edges of the Bins for Input Time Series Data"
   ]
  },
  {
   "cell_type": "code",
   "execution_count": 6,
   "id": "bfcafeee",
   "metadata": {},
   "outputs": [
    {
     "data": {
      "text/plain": [
       "array([0.00523525, 0.08974787, 0.17426049, 0.25877311, 0.34328573,\n",
       "       0.42779835, 0.51231097, 0.59682359, 0.68133621, 0.76584883,\n",
       "       0.85036145])"
      ]
     },
     "execution_count": 6,
     "metadata": {},
     "output_type": "execute_result"
    }
   ],
   "source": [
    "np_vars[\"edgesX_B10.npy\"]"
   ]
  },
  {
   "cell_type": "markdown",
   "id": "b6daeb24",
   "metadata": {},
   "source": [
    "## Estimated Parameters\n",
    "\n",
    "- First ten parameters are for $D^{(1)}$\n",
    "- Second ten parameters are for $D^{(2)}$\n",
    "- Last six parameters are for Kernel $\\mathcal{K}$"
   ]
  },
  {
   "cell_type": "code",
   "execution_count": 7,
   "id": "c901fd08",
   "metadata": {},
   "outputs": [
    {
     "name": "stdout",
     "output_type": "stream",
     "text": [
      "[ 0.025  0.008  0.005 -0.004 -0.019 -0.054 -0.024 -0.03  -0.029 -0.038\n",
      "  0.009  0.01   0.015  0.018  0.021  0.03   0.026  0.038  0.041  0.015\n",
      " -0.214 -0.098 -0.12  -0.079 -0.027 -0.143]\n"
     ]
    }
   ],
   "source": [
    "print(np.round(np_vars[\"theta_MAPest_B10_K6.npy\"],3))\n",
    "\n"
   ]
  },
  {
   "cell_type": "code",
   "execution_count": 8,
   "id": "2dc87392",
   "metadata": {},
   "outputs": [
    {
     "data": {
      "text/html": [
       "<div>\n",
       "<style scoped>\n",
       "    .dataframe tbody tr th:only-of-type {\n",
       "        vertical-align: middle;\n",
       "    }\n",
       "\n",
       "    .dataframe tbody tr th {\n",
       "        vertical-align: top;\n",
       "    }\n",
       "\n",
       "    .dataframe thead th {\n",
       "        text-align: right;\n",
       "    }\n",
       "</style>\n",
       "<table border=\"1\" class=\"dataframe\">\n",
       "  <thead>\n",
       "    <tr style=\"text-align: right;\">\n",
       "      <th></th>\n",
       "      <th>D1</th>\n",
       "      <th>D2</th>\n",
       "    </tr>\n",
       "  </thead>\n",
       "  <tbody>\n",
       "    <tr>\n",
       "      <th>0</th>\n",
       "      <td>0.025000</td>\n",
       "      <td>0.008905</td>\n",
       "    </tr>\n",
       "    <tr>\n",
       "      <th>1</th>\n",
       "      <td>0.008387</td>\n",
       "      <td>0.009969</td>\n",
       "    </tr>\n",
       "    <tr>\n",
       "      <th>2</th>\n",
       "      <td>0.005330</td>\n",
       "      <td>0.015351</td>\n",
       "    </tr>\n",
       "    <tr>\n",
       "      <th>3</th>\n",
       "      <td>-0.003526</td>\n",
       "      <td>0.018237</td>\n",
       "    </tr>\n",
       "    <tr>\n",
       "      <th>4</th>\n",
       "      <td>-0.018994</td>\n",
       "      <td>0.021025</td>\n",
       "    </tr>\n",
       "  </tbody>\n",
       "</table>\n",
       "</div>"
      ],
      "text/plain": [
       "         D1        D2\n",
       "0  0.025000  0.008905\n",
       "1  0.008387  0.009969\n",
       "2  0.005330  0.015351\n",
       "3 -0.003526  0.018237\n",
       "4 -0.018994  0.021025"
      ]
     },
     "execution_count": 8,
     "metadata": {},
     "output_type": "execute_result"
    }
   ],
   "source": [
    "# Into a pd.DataFrame\n",
    "\n",
    "D1D2 = pd.DataFrame({\"D1\": np_vars[\"theta_MAPest_B10_K6.npy\"][0:10],\n",
    "                    \"D2\": np_vars[\"theta_MAPest_B10_K6.npy\"][10:20]})\n",
    "D1D2.head()"
   ]
  },
  {
   "cell_type": "markdown",
   "id": "a112d933",
   "metadata": {},
   "source": [
    "Ensure that Kernel[1] is actually the lag-1-Kernel by adding a zeroth element"
   ]
  },
  {
   "cell_type": "code",
   "execution_count": 9,
   "id": "e329f8da",
   "metadata": {},
   "outputs": [
    {
     "name": "stdout",
     "output_type": "stream",
     "text": [
      "[ 0.    -0.214 -0.098 -0.12  -0.079 -0.027 -0.143]\n"
     ]
    }
   ],
   "source": [
    "Kernel = [0]\n",
    "Kernel += list(np_vars[\"theta_MAPest_B10_K6.npy\"][20:])\n",
    "print(np.round(Kernel,3))"
   ]
  },
  {
   "cell_type": "markdown",
   "id": "c50c97d7",
   "metadata": {},
   "source": [
    "## Prediction\n",
    "\n",
    "Taken from Eq. (7) in Clemens's Preprint"
   ]
  },
  {
   "cell_type": "code",
   "execution_count": 10,
   "id": "37a9650d",
   "metadata": {},
   "outputs": [
    {
     "data": {
      "text/plain": [
       "4"
      ]
     },
     "execution_count": 10,
     "metadata": {},
     "output_type": "execute_result"
    }
   ],
   "source": [
    "def getBin(x, Binning):\n",
    "    # get Bin for observation x via Binning intervals Binning,\n",
    "    # starts with zeroth Bin\n",
    "    \n",
    "    Output = int(sum(x>Binning)) - 1  \n",
    "    # -1 because lowest interval boundary is minimum\n",
    "    \n",
    "    Output = max(0, Output) # if lower than min. in training data\n",
    "    Output = min(len(Binning)-2, Output) # if higher than max. in training: N interval boundaries-> N-2 intervals\n",
    "    \n",
    "    return(int(Output))\n",
    "\n",
    "    \n",
    "    \n",
    "getBin(0.36,np_vars[\"edgesX_B10.npy\"])"
   ]
  },
  {
   "cell_type": "code",
   "execution_count": 11,
   "id": "debe12e3",
   "metadata": {},
   "outputs": [
    {
     "name": "stdout",
     "output_type": "stream",
     "text": [
      "[0.005 0.09  0.174 0.259 0.343 0.428 0.512 0.597 0.681 0.766 0.85 ]\n"
     ]
    }
   ],
   "source": [
    "print(np.round(np_vars[\"edgesX_B10.npy\"],3))"
   ]
  },
  {
   "cell_type": "code",
   "execution_count": 12,
   "id": "72876944",
   "metadata": {},
   "outputs": [],
   "source": [
    "def OneStep(X, d1d2_DF, Kernels, Binning, deltaT, K):\n",
    "    # X: input data, d1d2_DF: DataFrame of D1 and D2, index = bins\n",
    "    # Binning: intervals for binning, starts with zeroth Bin\n",
    "    # deltaT : time increment, K: length of relevant kernel\n",
    "    \n",
    "    assert type(K) == int\n",
    "    \n",
    "    Interval = getBin(X[-1], Binning)\n",
    "    \n",
    "    Output = X[-1]  # past value\n",
    "    Output +=  d1d2_DF[\"D1\"].loc[Interval] * deltaT # simple Euler ODE\n",
    "    \n",
    "    # now for the kernel\n",
    "    \n",
    "    for k in range(1,K+1): # sum over 1 to (inclusive) K\n",
    "        Contribution = 0\n",
    "        Contribution += Kernel[k] * ( X[-1] - X[-1-k])*deltaT\n",
    "        Output += Contribution # Kernel effect\n",
    "    \n",
    "    # now the stochastic Ito-component\n",
    "    Output += np.sqrt(d1d2_DF[\"D2\"].loc[Interval] * deltaT) * np.random.normal(0,1,1)\n",
    "\n",
    "    \n",
    "    return(Output)"
   ]
  },
  {
   "cell_type": "code",
   "execution_count": 13,
   "id": "3c226fee",
   "metadata": {},
   "outputs": [],
   "source": [
    "def Prediction_mean_std(X, d1d2_DF, Kernels, Binning, deltaT, K, Times = 100):\n",
    "    pred_list = list()\n",
    "    for i in range(Times):\n",
    "        pred_list = pred_list + list(OneStep(X, d1d2_DF, Kernels, Binning, deltaT, K))\n",
    "        \n",
    "    return( np.array([np.mean(pred_list), np.std(pred_list)]) )"
   ]
  },
  {
   "cell_type": "markdown",
   "id": "f3a46cba",
   "metadata": {},
   "source": [
    "## Test"
   ]
  },
  {
   "cell_type": "code",
   "execution_count": 14,
   "id": "1b661103",
   "metadata": {},
   "outputs": [],
   "source": [
    "X = np_vars[\"FirstPart_WeeklyCorr.npy\"]"
   ]
  },
  {
   "cell_type": "code",
   "execution_count": 15,
   "id": "b3c8f97e",
   "metadata": {},
   "outputs": [
    {
     "data": {
      "text/plain": [
       "array([0.52430303, 0.19407576])"
      ]
     },
     "execution_count": 15,
     "metadata": {},
     "output_type": "execute_result"
    }
   ],
   "source": [
    "Prediction_mean_std(X, D1D2, Kernel, Binning=np_vars[\"edgesX_B10.npy\"],\n",
    "                           deltaT = 1, K = 3)\n"
   ]
  },
  {
   "cell_type": "code",
   "execution_count": 16,
   "id": "25bf6366",
   "metadata": {},
   "outputs": [
    {
     "name": "stdout",
     "output_type": "stream",
     "text": [
      "0.5501072455325058\n"
     ]
    }
   ],
   "source": [
    "m, std = Prediction_mean_std(X, D1D2, Kernel, Binning=np_vars[\"edgesX_B10.npy\"],\n",
    "                           deltaT = 1, K = 3)\n",
    "print(m)"
   ]
  },
  {
   "cell_type": "markdown",
   "id": "eea46a7d",
   "metadata": {},
   "source": [
    "# In-Sample Prediction"
   ]
  },
  {
   "cell_type": "code",
   "execution_count": 17,
   "id": "14d8b9df",
   "metadata": {},
   "outputs": [],
   "source": [
    "K_Length = 3"
   ]
  },
  {
   "cell_type": "code",
   "execution_count": 18,
   "id": "5fcff032",
   "metadata": {},
   "outputs": [],
   "source": [
    "Means = list()\n",
    "Stds = list()\n",
    "TrueValues = list()\n",
    "LastValues = list()\n",
    "L = len(X)-K_Length-1\n",
    "\n",
    "\n",
    "for i in range(L):\n",
    "    TrueValues = TrueValues +  [X[-L+i+1]]\n",
    "    LastValues = LastValues+  [X[-L+i]]\n",
    "    mn, st = Prediction_mean_std(X[:-L+i], D1D2, Kernel, Binning=np_vars[\"edgesX_B10.npy\"],\n",
    "                           deltaT = 1, K = K_Length)\n",
    "   \n",
    "    Means = Means + [mn]\n",
    "    Stds = Stds + [st]\n"
   ]
  },
  {
   "cell_type": "markdown",
   "id": "3857758e",
   "metadata": {},
   "source": [
    "### Some Confidence Interval Checks"
   ]
  },
  {
   "cell_type": "code",
   "execution_count": 19,
   "id": "da2b0b27",
   "metadata": {},
   "outputs": [
    {
     "name": "stdout",
     "output_type": "stream",
     "text": [
      "0.6877637130801688\n"
     ]
    }
   ],
   "source": [
    "LowerCI = np.array(Means)-np.array(Stds) \n",
    "UpperCI = np.array(Means)+np.array(Stds) \n",
    "ArrayTrueValues = np.array(TrueValues)\n",
    "\n",
    "LCI_Check = 1.0*(LowerCI<ArrayTrueValues)\n",
    "UCI_Check =1.0*(UpperCI>ArrayTrueValues)\n",
    "\n",
    "InCI = LCI_Check * UCI_Check\n",
    "print(np.mean(InCI))"
   ]
  },
  {
   "cell_type": "code",
   "execution_count": 20,
   "id": "baca7f6c",
   "metadata": {
    "scrolled": true
   },
   "outputs": [
    {
     "data": {
      "text/plain": [
       "948"
      ]
     },
     "execution_count": 20,
     "metadata": {},
     "output_type": "execute_result"
    }
   ],
   "source": [
    "len(TrueValues)"
   ]
  },
  {
   "cell_type": "code",
   "execution_count": 21,
   "id": "898743a2",
   "metadata": {},
   "outputs": [
    {
     "data": {
      "text/plain": [
       "952"
      ]
     },
     "execution_count": 21,
     "metadata": {},
     "output_type": "execute_result"
    }
   ],
   "source": [
    "len(X)"
   ]
  },
  {
   "cell_type": "code",
   "execution_count": 22,
   "id": "a5271fe9",
   "metadata": {},
   "outputs": [
    {
     "data": {
      "image/png": "[encoded data removed]",
      "text/plain": [
       "<Figure size 432x288 with 1 Axes>"
      ]
     },
     "metadata": {
      "needs_background": "light"
     },
     "output_type": "display_data"
    }
   ],
   "source": [
    "plt.scatter(TrueValues, LastValues, label=\"Naive Prediction\")\n",
    "plt.xlabel(\"True Values\")\n",
    "plt.ylabel(\"Last Values\")\n",
    "plt.plot([0,1],[0,1], label=\"Identity\", c =\"r\")\n",
    "plt.legend()\n",
    "plt.show()"
   ]
  },
  {
   "cell_type": "code",
   "execution_count": 23,
   "id": "904ecac2",
   "metadata": {},
   "outputs": [
    {
     "data": {
      "image/png": "[encoded data removed]",
      "text/plain": [
       "<Figure size 432x288 with 1 Axes>"
      ]
     },
     "metadata": {
      "needs_background": "light"
     },
     "output_type": "display_data"
    }
   ],
   "source": [
    "plt.scatter(TrueValues, LastValues, label=\"Naive Forecast\", alpha = 0.5)\n",
    "\n",
    "plt.scatter(TrueValues, Means, label=\"Kernel Forecast\", alpha = 0.5)\n",
    "\n",
    "fs = 14\n",
    "plt.xlabel(\"True Values: Market Correlation\",fontsize = fs)\n",
    "plt.ylabel(\"One-Step Forecasts\",fontsize = fs)\n",
    "plt.plot([0,1],[0,1], label=\"Identity\", c =\"k\")\n",
    "plt.legend()\n",
    "plt.show()"
   ]
  },
  {
   "cell_type": "markdown",
   "id": "caee9252",
   "metadata": {},
   "source": [
    "#### Root Mean Square Error and R² ### R² Metrics"
   ]
  },
  {
   "cell_type": "code",
   "execution_count": 24,
   "id": "5a4d4f31",
   "metadata": {},
   "outputs": [
    {
     "data": {
      "text/plain": [
       "0.13438953268704262"
      ]
     },
     "execution_count": 24,
     "metadata": {},
     "output_type": "execute_result"
    }
   ],
   "source": [
    "np.sqrt(np.mean((np.array(TrueValues)-np.array(Means))**2.))"
   ]
  },
  {
   "cell_type": "code",
   "execution_count": 25,
   "id": "e4647142",
   "metadata": {},
   "outputs": [
    {
     "data": {
      "text/plain": [
       "0.16001485352115827"
      ]
     },
     "execution_count": 25,
     "metadata": {},
     "output_type": "execute_result"
    }
   ],
   "source": [
    "np.sqrt(np.mean((np.array(TrueValues)-np.array(LastValues))**2.))"
   ]
  },
  {
   "cell_type": "code",
   "execution_count": 26,
   "id": "6178edd1",
   "metadata": {},
   "outputs": [
    {
     "data": {
      "text/plain": [
       "0.42910811948551897"
      ]
     },
     "execution_count": 26,
     "metadata": {},
     "output_type": "execute_result"
    }
   ],
   "source": [
    "r2_score(y_true=TrueValues, y_pred=Means)"
   ]
  },
  {
   "cell_type": "code",
   "execution_count": 27,
   "id": "a0d1d8ae",
   "metadata": {},
   "outputs": [
    {
     "data": {
      "text/plain": [
       "0.19063657392809652"
      ]
     },
     "execution_count": 27,
     "metadata": {},
     "output_type": "execute_result"
    }
   ],
   "source": [
    "r2_score(y_true=TrueValues, y_pred=LastValues)"
   ]
  },
  {
   "cell_type": "markdown",
   "id": "33ffafee",
   "metadata": {},
   "source": [
    "# Out-Of-Sample Prediction"
   ]
  },
  {
   "cell_type": "code",
   "execution_count": 28,
   "id": "8d40d4b1",
   "metadata": {},
   "outputs": [
    {
     "data": {
      "text/plain": [
       "105"
      ]
     },
     "execution_count": 28,
     "metadata": {},
     "output_type": "execute_result"
    }
   ],
   "source": [
    "test_data = np_vars[\"SecondPart_WeeklyCorr.npy\"]\n",
    "len(test_data)"
   ]
  },
  {
   "cell_type": "code",
   "execution_count": 29,
   "id": "52354124",
   "metadata": {},
   "outputs": [
    {
     "data": {
      "image/png": "[encoded data removed]",
      "text/plain": [
       "<Figure size 432x288 with 1 Axes>"
      ]
     },
     "metadata": {
      "needs_background": "light"
     },
     "output_type": "display_data"
    }
   ],
   "source": [
    "X_full = np.concatenate([X,test_data])\n",
    "plt.plot(X_full)\n",
    "plt.show()"
   ]
  },
  {
   "cell_type": "code",
   "execution_count": 30,
   "id": "2da0592b",
   "metadata": {},
   "outputs": [],
   "source": [
    "Means_test = list()\n",
    "Stds_test = list()\n",
    "TrueValues_test = list()\n",
    "LastValues_test = list()\n",
    "L = len(test_data)+1  # +1 because first TrueValues is [X[-L+i+1]]\n",
    "\n",
    "\n",
    "for i in range(L):\n",
    "    TrueValues_test = TrueValues_test +  [X_full[-L+i+1]]\n",
    "    LastValues_test = LastValues_test+  [X_full[-L+i]]\n",
    "    mn, st = Prediction_mean_std(X_full[:-L+i], D1D2, Kernel, Binning=np_vars[\"edgesX_B10.npy\"],\n",
    "                           deltaT = 1, K = K_Length)\n",
    "   \n",
    "    Means_test = Means_test + [mn]\n",
    "    Stds_test = Stds_test + [st]\n"
   ]
  },
  {
   "cell_type": "code",
   "execution_count": 31,
   "id": "e2e80763",
   "metadata": {
    "scrolled": true
   },
   "outputs": [
    {
     "data": {
      "image/png": "[encoded data removed]",
      "text/plain": [
       "<Figure size 432x288 with 1 Axes>"
      ]
     },
     "metadata": {
      "needs_background": "light"
     },
     "output_type": "display_data"
    }
   ],
   "source": [
    "plt.scatter(TrueValues_test, LastValues_test, label=\"Naive Forecast\", alpha = 0.5)\n",
    "\n",
    "plt.scatter(TrueValues_test, Means_test, label=\"Kernel Forecast\", alpha = 0.5)\n",
    "\n",
    "fs = 14\n",
    "plt.xlabel(\"True Values: Market Correlation\",fontsize = fs)\n",
    "plt.ylabel(\"One-Step Forecasts\",fontsize = fs)\n",
    "plt.plot([0,1],[0,1], label=\"Identity\", c =\"k\")\n",
    "plt.legend()\n",
    "plt.show()"
   ]
  },
  {
   "cell_type": "markdown",
   "id": "285e0449",
   "metadata": {},
   "source": [
    "#### Root Mean Square Error and R² "
   ]
  },
  {
   "cell_type": "code",
   "execution_count": 32,
   "id": "eb38ad5d",
   "metadata": {},
   "outputs": [
    {
     "data": {
      "text/plain": [
       "0.20403579157788668"
      ]
     },
     "execution_count": 32,
     "metadata": {},
     "output_type": "execute_result"
    }
   ],
   "source": [
    "np.sqrt(np.mean((np.array(TrueValues_test)-np.array(Means_test))**2.))"
   ]
  },
  {
   "cell_type": "code",
   "execution_count": 33,
   "id": "0f2f60a0",
   "metadata": {},
   "outputs": [
    {
     "data": {
      "text/plain": [
       "0.22587837243543119"
      ]
     },
     "execution_count": 33,
     "metadata": {},
     "output_type": "execute_result"
    }
   ],
   "source": [
    "np.sqrt(np.mean((np.array(TrueValues_test)-np.array(LastValues_test))**2.))"
   ]
  },
  {
   "cell_type": "code",
   "execution_count": 34,
   "id": "233c1725",
   "metadata": {},
   "outputs": [
    {
     "data": {
      "text/plain": [
       "0.09613392776426466"
      ]
     },
     "execution_count": 34,
     "metadata": {},
     "output_type": "execute_result"
    }
   ],
   "source": [
    "r2_score(y_true=TrueValues_test, y_pred=Means_test)"
   ]
  },
  {
   "cell_type": "code",
   "execution_count": 35,
   "id": "cacc53e5",
   "metadata": {},
   "outputs": [
    {
     "data": {
      "text/plain": [
       "-0.10774722298799988"
      ]
     },
     "execution_count": 35,
     "metadata": {},
     "output_type": "execute_result"
    }
   ],
   "source": [
    "r2_score(y_true=TrueValues_test, y_pred=LastValues_test)"
   ]
  },
  {
   "cell_type": "markdown",
   "id": "21091c06",
   "metadata": {},
   "source": [
    "### Again, CIs"
   ]
  },
  {
   "cell_type": "code",
   "execution_count": 36,
   "id": "38f3ac2d",
   "metadata": {},
   "outputs": [
    {
     "name": "stdout",
     "output_type": "stream",
     "text": [
      "0.5094339622641509\n"
     ]
    }
   ],
   "source": [
    "LowerCI_test = np.array(Means_test)-np.array(Stds_test) \n",
    "UpperCI_test = np.array(Means_test)+np.array(Stds_test) \n",
    "ArrayTrueValues_test = np.array(TrueValues_test)\n",
    "\n",
    "LCI_Check_test = 1.0*(LowerCI_test<ArrayTrueValues_test)\n",
    "UCI_Check_test =1.0*(UpperCI_test>ArrayTrueValues_test)\n",
    "\n",
    "InCI_test = LCI_Check_test * UCI_Check_test\n",
    "print(np.mean(InCI_test))"
   ]
  },
  {
   "cell_type": "code",
   "execution_count": null,
   "id": "e5ba258a",
   "metadata": {},
   "outputs": [],
   "source": []
  }
 ],
 "metadata": {
  "kernelspec": {
   "display_name": "Python 3 (ipykernel)",
   "language": "python",
   "name": "python3"
  },
  "language_info": {
   "codemirror_mode": {
    "name": "ipython",
    "version": 3
   },
   "file_extension": ".py",
   "mimetype": "text/x-python",
   "name": "python",
   "nbconvert_exporter": "python",
   "pygments_lexer": "ipython3",
   "version": "3.7.3"
  }
 },
 "nbformat": 4,
 "nbformat_minor": 5
}
