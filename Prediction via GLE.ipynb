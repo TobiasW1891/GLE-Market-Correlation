{
 "cells": [
  {
   "cell_type": "code",
   "execution_count": 1,
   "id": "c22f79bb",
   "metadata": {},
   "outputs": [],
   "source": [
    "import numpy as np\n",
    "import matplotlib.pyplot as plt\n",
    "import os\n",
    "import pandas as pd\n",
    "from sklearn.metrics import r2_score\n",
    "np.random.seed(0)\n"
   ]
  },
  {
   "cell_type": "code",
   "execution_count": 2,
   "id": "b7ed7611",
   "metadata": {},
   "outputs": [
    {
     "data": {
      "text/plain": [
       "'/home/users/t_wand01/Promotion/GLE Estimation/GLE Estimation Weekly/FirstPart0.9'"
      ]
     },
     "execution_count": 2,
     "metadata": {},
     "output_type": "execute_result"
    }
   ],
   "source": [
    "os.chdir(\"FirstPart0.9\")\n",
    "os.getcwd()"
   ]
  },
  {
   "cell_type": "code",
   "execution_count": 3,
   "id": "9e9fd651",
   "metadata": {},
   "outputs": [],
   "source": [
    "\n",
    "from os import listdir\n",
    "\n",
    "directory_path = '.'\n",
    "file_types = ['npy', 'npz']\n",
    "\n",
    "np_vars = {dir_content: np.load(dir_content)\n",
    "           for dir_content in listdir(directory_path)\n",
    "           if dir_content.split('.')[-1] in file_types}"
   ]
  },
  {
   "cell_type": "code",
   "execution_count": 4,
   "id": "1424a9f2",
   "metadata": {},
   "outputs": [
    {
     "name": "stdout",
     "output_type": "stream",
     "text": [
      "simulatedDataX_B10_K6_MAP.npy\n",
      "coeff_B10_K3.npy\n",
      "theta_MAPest_B10_K3.npy\n",
      "theta_meanEst_B10_K0.npy\n",
      "credibleIntervals_B10_K0.npy\n",
      "MCMCsamples_B10_K0.npy\n",
      "simulatedDataX_B10_K3_mean.npy\n",
      "MCMCsamples_raw_B10_K0.npy\n",
      "theta_meanEst_B10_K6.npy\n",
      "binsX_B10.npy\n",
      "credibleIntervals_B10_K6.npy\n",
      "SecondPart_WeeklyCorr.npy\n",
      "n_bin_B10_K3.npy\n",
      "MCMCsamples_raw_B10_K6.npy\n",
      "MCMCsamples_B10_K6.npy\n",
      "simulatedDataX_B10_K3_MAP.npy\n",
      "edgesX_B10.npy\n",
      "theta_MAPest_B10_K6.npy\n",
      "coeff_B10_K6.npy\n",
      "FirstPart_WeeklyCorr.npy\n",
      "simulatedDataX_B10_K6_mean.npy\n",
      "n_bin_B10_K0.npy\n",
      "simulatedDataX_B10_K0_mean.npy\n",
      "MCMCsamples_B10_K3.npy\n",
      "theta_direct_SLE_B10.npy\n",
      "MCMCsamples_raw_B10_K3.npy\n",
      "simulatedDataX_B10_K0_MAP.npy\n",
      "n_bin_B10_K6.npy\n",
      "coeff_B10_K0.npy\n",
      "theta_MAPest_B10_K0.npy\n",
      "theta_meanEst_B10_K3.npy\n",
      "credibleIntervals_B10_K3.npy\n"
     ]
    }
   ],
   "source": [
    "for i in np_vars.keys():\n",
    "    print(i)"
   ]
  },
  {
   "cell_type": "code",
   "execution_count": 5,
   "id": "4fa70df1",
   "metadata": {},
   "outputs": [
    {
     "data": {
      "text/plain": [
       "'/home/users/t_wand01/Promotion/GLE Estimation/GLE Estimation Weekly/Predict'"
      ]
     },
     "execution_count": 5,
     "metadata": {},
     "output_type": "execute_result"
    }
   ],
   "source": [
    "os.chdir(\"..\")\n",
    "os.getcwd()\n",
    "os.chdir(\"Predict\")\n",
    "os.getcwd()"
   ]
  },
  {
   "cell_type": "markdown",
   "id": "b439b696",
   "metadata": {},
   "source": [
    "## Edges of the Bins for Input Time Series Data"
   ]
  },
  {
   "cell_type": "code",
   "execution_count": 6,
   "id": "bfcafeee",
   "metadata": {},
   "outputs": [
    {
     "data": {
      "text/plain": [
       "array([0.00523525, 0.08974787, 0.17426049, 0.25877311, 0.34328573,\n",
       "       0.42779835, 0.51231097, 0.59682359, 0.68133621, 0.76584883,\n",
       "       0.85036145])"
      ]
     },
     "execution_count": 6,
     "metadata": {},
     "output_type": "execute_result"
    }
   ],
   "source": [
    "np_vars[\"edgesX_B10.npy\"]"
   ]
  },
  {
   "cell_type": "markdown",
   "id": "b6daeb24",
   "metadata": {},
   "source": [
    "## Estimated Parameters\n",
    "\n",
    "- First ten parameters are for $D^{(1)}$\n",
    "- Second ten parameters are for $D^{(2)}$\n",
    "- Last remaining parameters are for Kernel $\\mathcal{K}$"
   ]
  },
  {
   "cell_type": "code",
   "execution_count": 7,
   "id": "c901fd08",
   "metadata": {},
   "outputs": [
    {
     "name": "stdout",
     "output_type": "stream",
     "text": [
      "[ 0.033  0.012  0.007  0.002 -0.03  -0.065 -0.04  -0.052 -0.063 -0.065\n",
      "  0.009  0.011  0.016  0.019  0.023  0.03   0.025  0.036  0.038  0.016\n",
      " -0.26  -0.158 -0.183]\n"
     ]
    }
   ],
   "source": [
    "print(np.round(np_vars[\"theta_MAPest_B10_K3.npy\"],3))\n",
    "\n"
   ]
  },
  {
   "cell_type": "code",
   "execution_count": 8,
   "id": "2dc87392",
   "metadata": {},
   "outputs": [
    {
     "data": {
      "text/plain": [
       "(         D1        D2\n",
       " 0  0.033137  0.009296\n",
       " 1  0.011615  0.010608\n",
       " 2  0.006845  0.015760\n",
       " 3  0.002054  0.018837\n",
       " 4 -0.029891  0.022930,\n",
       "          D1        D2\n",
       " 0  0.076111  0.011321\n",
       " 1  0.039494  0.014576\n",
       " 2  0.014505  0.021559\n",
       " 3 -0.016951  0.027687\n",
       " 4 -0.064454  0.027814)"
      ]
     },
     "execution_count": 8,
     "metadata": {},
     "output_type": "execute_result"
    }
   ],
   "source": [
    "# Into a pd.DataFrame\n",
    "\n",
    "D1D2 = pd.DataFrame({\"D1\": np_vars[\"theta_MAPest_B10_K3.npy\"][0:10],\n",
    "                    \"D2\": np_vars[\"theta_MAPest_B10_K3.npy\"][10:20]})\n",
    "\n",
    "D1D2_0 = pd.DataFrame({\"D1\": np_vars[\"theta_MAPest_B10_K0.npy\"][0:10],\n",
    "                    \"D2\": np_vars[\"theta_MAPest_B10_K0.npy\"][10:20]})\n",
    "\n",
    "D1D2.head(), D1D2_0.head()"
   ]
  },
  {
   "cell_type": "markdown",
   "id": "a112d933",
   "metadata": {},
   "source": [
    "Ensure that Kernel[1] is actually the lag-1-Kernel by adding a zeroth element"
   ]
  },
  {
   "cell_type": "code",
   "execution_count": 9,
   "id": "e329f8da",
   "metadata": {},
   "outputs": [
    {
     "name": "stdout",
     "output_type": "stream",
     "text": [
      "[ 0.    -0.26  -0.158 -0.183]\n"
     ]
    }
   ],
   "source": [
    "Kernel = [0]\n",
    "Kernel += list(np_vars[\"theta_MAPest_B10_K3.npy\"][20:])\n",
    "print(np.round(Kernel,3))"
   ]
  },
  {
   "cell_type": "markdown",
   "id": "c50c97d7",
   "metadata": {},
   "source": [
    "## Prediction\n",
    "\n",
    "Taken from Eq. (7) in Clemens's Preprint"
   ]
  },
  {
   "cell_type": "code",
   "execution_count": 10,
   "id": "37a9650d",
   "metadata": {},
   "outputs": [
    {
     "data": {
      "text/plain": [
       "4"
      ]
     },
     "execution_count": 10,
     "metadata": {},
     "output_type": "execute_result"
    }
   ],
   "source": [
    "def getBin(x, Binning):\n",
    "    # get Bin for observation x via Binning intervals Binning,\n",
    "    # starts with zeroth Bin\n",
    "    \n",
    "    Output = int(sum(x>Binning)) - 1  \n",
    "    # -1 because lowest interval boundary is minimum\n",
    "    \n",
    "    Output = max(0, Output) # if lower than min. in training data\n",
    "    Output = min(len(Binning)-2, Output) # if higher than max. in training: N interval boundaries-> N-2 intervals\n",
    "    \n",
    "    return(int(Output))\n",
    "\n",
    "    \n",
    "    \n",
    "getBin(0.36,np_vars[\"edgesX_B10.npy\"])"
   ]
  },
  {
   "cell_type": "code",
   "execution_count": 11,
   "id": "debe12e3",
   "metadata": {},
   "outputs": [
    {
     "name": "stdout",
     "output_type": "stream",
     "text": [
      "[0.005 0.09  0.174 0.259 0.343 0.428 0.512 0.597 0.681 0.766 0.85 ]\n"
     ]
    }
   ],
   "source": [
    "print(np.round(np_vars[\"edgesX_B10.npy\"],3))"
   ]
  },
  {
   "cell_type": "code",
   "execution_count": 12,
   "id": "3c226fee",
   "metadata": {},
   "outputs": [],
   "source": [
    "# This gives me mean and standard deviation of the prediction\n",
    "\n",
    "def Prediction_mean_std(X_in, d1d2_DF, Kernels, Binning, deltaT, K):\n",
    "    \n",
    "    \n",
    "    assert type(K) == int\n",
    "    \n",
    "    Interval = getBin(X_in[-1], Binning)\n",
    "    \n",
    "    Output_m = X_in[-1]  # past value\n",
    "    Output_m +=  d1d2_DF[\"D1\"].loc[Interval] * deltaT # simple Euler ODE\n",
    "    \n",
    "    # now for the kernel\n",
    "    \n",
    "    for k in range(1,K+1): # sum over 1 to (inclusive) K\n",
    "        Contribution = 0\n",
    "        Contribution += Kernel[k] * ( X_in[-1] - X_in[-1-k])*deltaT\n",
    "        Output_m += Contribution # Kernel effect\n",
    "    \n",
    "    # now the stochastic Ito-component\n",
    "    Output_std = float(np.sqrt(d1d2_DF[\"D2\"].loc[Interval] * deltaT))\n",
    "\n",
    "        \n",
    "    return( np.array([Output_m, Output_std]) )"
   ]
  },
  {
   "cell_type": "markdown",
   "id": "f3a46cba",
   "metadata": {},
   "source": [
    "## Test"
   ]
  },
  {
   "cell_type": "code",
   "execution_count": 13,
   "id": "1b661103",
   "metadata": {},
   "outputs": [],
   "source": [
    "X = np_vars[\"FirstPart_WeeklyCorr.npy\"]"
   ]
  },
  {
   "cell_type": "code",
   "execution_count": 14,
   "id": "930526f1",
   "metadata": {},
   "outputs": [
    {
     "data": {
      "text/plain": [
       "array([0.19001126, 0.17489082])"
      ]
     },
     "execution_count": 14,
     "metadata": {},
     "output_type": "execute_result"
    }
   ],
   "source": [
    "Prediction_mean_std(X[:-1], D1D2_0, Kernel, Binning=np_vars[\"edgesX_B10.npy\"],\n",
    "                           deltaT = 1, K = 3)"
   ]
  },
  {
   "cell_type": "code",
   "execution_count": 15,
   "id": "b3c8f97e",
   "metadata": {
    "scrolled": true
   },
   "outputs": [
    {
     "data": {
      "text/plain": [
       "array([0.44713989, 0.18850137])"
      ]
     },
     "execution_count": 15,
     "metadata": {},
     "output_type": "execute_result"
    }
   ],
   "source": [
    "Prediction_mean_std(X, D1D2, Kernel, Binning=np_vars[\"edgesX_B10.npy\"],\n",
    "                           deltaT = 1, K = 3)\n"
   ]
  },
  {
   "cell_type": "code",
   "execution_count": 16,
   "id": "25bf6366",
   "metadata": {
    "scrolled": true
   },
   "outputs": [
    {
     "name": "stdout",
     "output_type": "stream",
     "text": [
      "0.4471398916296474 0.18850136774700946\n"
     ]
    }
   ],
   "source": [
    "m, std = Prediction_mean_std(X, D1D2, Kernel, Binning=np_vars[\"edgesX_B10.npy\"],\n",
    "                           deltaT = 1, K = 3)\n",
    "print(m,std)"
   ]
  },
  {
   "cell_type": "markdown",
   "id": "eea46a7d",
   "metadata": {},
   "source": [
    "# In-Sample Prediction"
   ]
  },
  {
   "cell_type": "code",
   "execution_count": 17,
   "id": "14d8b9df",
   "metadata": {},
   "outputs": [],
   "source": [
    "K_Length = 3"
   ]
  },
  {
   "cell_type": "code",
   "execution_count": 18,
   "id": "5fcff032",
   "metadata": {},
   "outputs": [],
   "source": [
    "Means = list()\n",
    "Stds = list()\n",
    "TrueValues = list()\n",
    "LastValues = list()\n",
    "L = len(X)-K_Length-1\n",
    "\n",
    "\n",
    "for i in range(L):\n",
    "    TrueValues = TrueValues +  [X[-L+i+1]]\n",
    "    LastValues = LastValues+  [X[-L+i]]\n",
    "    mn, st = Prediction_mean_std(X[:-L+i], D1D2, Kernel, Binning=np_vars[\"edgesX_B10.npy\"],\n",
    "                           deltaT = 1, K = K_Length)\n",
    "   \n",
    "    Means = Means + [mn]\n",
    "    Stds = Stds + [st]\n"
   ]
  },
  {
   "cell_type": "code",
   "execution_count": 19,
   "id": "ffe57b0c",
   "metadata": {},
   "outputs": [
    {
     "data": {
      "text/plain": [
       "array([0.09641543, 0.10299748, 0.12554014, 0.10299748, 0.09641543,\n",
       "       0.10299748, 0.09641543, 0.09641543, 0.10299748, 0.15142551,\n",
       "       0.09641543, 0.09641543, 0.10299748, 0.09641543, 0.10299748,\n",
       "       0.09641543, 0.10299748, 0.09641543, 0.10299748, 0.12554014,\n",
       "       0.10299748, 0.10299748, 0.09641543, 0.09641543, 0.10299748,\n",
       "       0.10299748, 0.09641543, 0.09641543, 0.10299748, 0.09641543,\n",
       "       0.09641543, 0.13724672, 0.10299748, 0.10299748, 0.10299748,\n",
       "       0.12554014, 0.09641543, 0.09641543, 0.10299748, 0.09641543,\n",
       "       0.10299748, 0.09641543, 0.09641543, 0.10299748, 0.10299748,\n",
       "       0.09641543, 0.09641543, 0.10299748, 0.09641543, 0.09641543,\n",
       "       0.10299748, 0.10299748, 0.13724672, 0.09641543, 0.10299748,\n",
       "       0.10299748, 0.09641543, 0.10299748, 0.09641543, 0.12554014,\n",
       "       0.09641543, 0.09641543, 0.10299748, 0.09641543, 0.09641543,\n",
       "       0.12554014, 0.10299748, 0.09641543, 0.09641543, 0.09641543,\n",
       "       0.10299748, 0.09641543, 0.10299748, 0.09641543, 0.09641543,\n",
       "       0.09641543, 0.09641543, 0.09641543, 0.09641543, 0.09641543,\n",
       "       0.09641543, 0.12554014, 0.09641543, 0.10299748, 0.09641543,\n",
       "       0.09641543, 0.09641543, 0.09641543, 0.09641543, 0.12554014,\n",
       "       0.09641543, 0.10299748, 0.09641543, 0.09641543, 0.09641543,\n",
       "       0.10299748, 0.09641543, 0.09641543, 0.09641543, 0.09641543,\n",
       "       0.09641543, 0.09641543, 0.13724672, 0.09641543, 0.12554014,\n",
       "       0.09641543, 0.10299748, 0.09641543, 0.10299748, 0.10299748,\n",
       "       0.15142551, 0.09641543, 0.10299748, 0.10299748, 0.10299748,\n",
       "       0.10299748, 0.10299748, 0.09641543, 0.09641543, 0.09641543,\n",
       "       0.10299748, 0.12554014, 0.09641543, 0.09641543, 0.10299748,\n",
       "       0.09641543, 0.10299748, 0.09641543, 0.10299748, 0.10299748,\n",
       "       0.10299748, 0.10299748, 0.12554014, 0.10299748, 0.09641543,\n",
       "       0.12554014, 0.10299748, 0.09641543, 0.10299748, 0.13724672,\n",
       "       0.10299748, 0.10299748, 0.12554014, 0.10299748, 0.10299748,\n",
       "       0.09641543, 0.09641543, 0.09641543, 0.09641543, 0.09641543,\n",
       "       0.09641543, 0.09641543, 0.10299748, 0.09641543, 0.09641543,\n",
       "       0.12554014, 0.10299748, 0.10299748, 0.09641543, 0.09641543,\n",
       "       0.09641543, 0.09641543, 0.09641543, 0.09641543, 0.09641543,\n",
       "       0.09641543, 0.12554014, 0.09641543, 0.12554014, 0.10299748,\n",
       "       0.09641543, 0.10299748, 0.10299748, 0.09641543, 0.09641543,\n",
       "       0.12554014, 0.10299748, 0.09641543, 0.09641543, 0.09641543,\n",
       "       0.09641543, 0.09641543, 0.09641543, 0.09641543, 0.09641543,\n",
       "       0.10299748, 0.09641543, 0.09641543, 0.09641543, 0.10299748,\n",
       "       0.09641543, 0.09641543, 0.09641543, 0.09641543, 0.09641543,\n",
       "       0.09641543, 0.10299748, 0.09641543, 0.10299748, 0.12554014,\n",
       "       0.09641543, 0.10299748, 0.09641543, 0.09641543, 0.09641543,\n",
       "       0.13724672, 0.12554014, 0.15142551, 0.12554014, 0.09641543,\n",
       "       0.09641543, 0.12554014, 0.12554014, 0.09641543, 0.09641543,\n",
       "       0.10299748, 0.09641543, 0.09641543, 0.10299748, 0.10299748,\n",
       "       0.09641543, 0.09641543, 0.10299748, 0.10299748, 0.13724672,\n",
       "       0.15142551, 0.10299748, 0.12554014, 0.12554014, 0.10299748,\n",
       "       0.09641543, 0.10299748, 0.12554014, 0.10299748, 0.09641543,\n",
       "       0.09641543, 0.10299748, 0.10299748, 0.09641543, 0.09641543,\n",
       "       0.09641543, 0.09641543, 0.09641543, 0.09641543, 0.10299748,\n",
       "       0.12554014, 0.09641543, 0.10299748, 0.10299748, 0.12554014,\n",
       "       0.10299748, 0.09641543, 0.10299748, 0.12554014, 0.10299748,\n",
       "       0.12554014, 0.12554014, 0.10299748, 0.12554014, 0.10299748,\n",
       "       0.13724672, 0.12554014, 0.15142551, 0.09641543, 0.12554014,\n",
       "       0.13724672, 0.13724672, 0.12554014, 0.10299748, 0.09641543,\n",
       "       0.10299748, 0.10299748, 0.12554014, 0.12554014, 0.10299748,\n",
       "       0.10299748, 0.13724672, 0.09641543, 0.10299748, 0.13724672,\n",
       "       0.13724672, 0.12554014, 0.15142551, 0.10299748, 0.15142551,\n",
       "       0.10299748, 0.10299748, 0.12554014, 0.09641543, 0.15142551,\n",
       "       0.18850137, 0.15142551, 0.12554014, 0.13724672, 0.13724672,\n",
       "       0.10299748, 0.12554014, 0.10299748, 0.10299748, 0.12554014,\n",
       "       0.13724672, 0.12554014, 0.10299748, 0.12554014, 0.09641543,\n",
       "       0.09641543, 0.12554014, 0.09641543, 0.13724672, 0.09641543,\n",
       "       0.09641543, 0.10299748, 0.12554014, 0.12554014, 0.12554014,\n",
       "       0.17405013, 0.09641543, 0.10299748, 0.10299748, 0.12554014,\n",
       "       0.10299748, 0.10299748, 0.13724672, 0.10299748, 0.10299748,\n",
       "       0.10299748, 0.10299748, 0.10299748, 0.13724672, 0.15142551,\n",
       "       0.15142551, 0.12554014, 0.15142551, 0.15142551, 0.15142551,\n",
       "       0.12554014, 0.13724672, 0.13724672, 0.12554014, 0.10299748,\n",
       "       0.09641543, 0.10299748, 0.10299748, 0.10299748, 0.10299748,\n",
       "       0.12554014, 0.13724672, 0.10299748, 0.10299748, 0.09641543,\n",
       "       0.10299748, 0.13724672, 0.09641543, 0.10299748, 0.10299748,\n",
       "       0.12554014, 0.12554014, 0.09641543, 0.12554014, 0.09641543,\n",
       "       0.12554014, 0.13724672, 0.10299748, 0.09641543, 0.09641543,\n",
       "       0.09641543, 0.12554014, 0.09641543, 0.12554014, 0.10299748,\n",
       "       0.12554014, 0.12554014, 0.10299748, 0.09641543, 0.09641543,\n",
       "       0.09641543, 0.09641543, 0.10299748, 0.10299748, 0.09641543,\n",
       "       0.12554014, 0.12554014, 0.12554014, 0.15142551, 0.09641543,\n",
       "       0.10299748, 0.12554014, 0.10299748, 0.10299748, 0.12554014,\n",
       "       0.10299748, 0.13724672, 0.09641543, 0.09641543, 0.10299748,\n",
       "       0.10299748, 0.12554014, 0.09641543, 0.09641543, 0.09641543,\n",
       "       0.13724672, 0.10299748, 0.10299748, 0.10299748, 0.10299748,\n",
       "       0.09641543, 0.10299748, 0.10299748, 0.09641543, 0.12554014,\n",
       "       0.17405013, 0.10299748, 0.10299748, 0.09641543, 0.17405013,\n",
       "       0.09641543, 0.12554014, 0.10299748, 0.12554014, 0.10299748,\n",
       "       0.10299748, 0.10299748, 0.09641543, 0.09641543, 0.09641543,\n",
       "       0.10299748, 0.09641543, 0.09641543, 0.10299748, 0.10299748,\n",
       "       0.09641543, 0.10299748, 0.09641543, 0.09641543, 0.09641543,\n",
       "       0.09641543, 0.09641543, 0.10299748, 0.09641543, 0.10299748,\n",
       "       0.10299748, 0.09641543, 0.12554014, 0.09641543, 0.10299748,\n",
       "       0.10299748, 0.09641543, 0.10299748, 0.09641543, 0.12554014,\n",
       "       0.13724672, 0.10299748, 0.09641543, 0.10299748, 0.09641543,\n",
       "       0.09641543, 0.09641543, 0.09641543, 0.12554014, 0.09641543,\n",
       "       0.13724672, 0.13724672, 0.12554014, 0.15142551, 0.15142551,\n",
       "       0.12554014, 0.10299748, 0.12554014, 0.09641543, 0.12554014,\n",
       "       0.12554014, 0.10299748, 0.12554014, 0.12554014, 0.10299748,\n",
       "       0.09641543, 0.12554014, 0.10299748, 0.12554014, 0.10299748,\n",
       "       0.10299748, 0.12554014, 0.10299748, 0.12554014, 0.10299748,\n",
       "       0.13724672, 0.13724672, 0.13724672, 0.12554014, 0.13724672,\n",
       "       0.13724672, 0.13724672, 0.10299748, 0.12554014, 0.09641543,\n",
       "       0.13724672, 0.12554014, 0.10299748, 0.10299748, 0.09641543,\n",
       "       0.10299748, 0.09641543, 0.12554014, 0.09641543, 0.17405013,\n",
       "       0.12554014, 0.13724672, 0.10299748, 0.13724672, 0.12554014,\n",
       "       0.12554014, 0.12554014, 0.12554014, 0.10299748, 0.15142551,\n",
       "       0.10299748, 0.12554014, 0.15142551, 0.15142551, 0.10299748,\n",
       "       0.13724672, 0.17405013, 0.12554014, 0.15142551, 0.12554014,\n",
       "       0.15713131, 0.12554014, 0.13724672, 0.15713131, 0.15713131,\n",
       "       0.15713131, 0.17405013, 0.17405013, 0.13724672, 0.15713131,\n",
       "       0.15142551, 0.13724672, 0.15713131, 0.17405013, 0.17405013,\n",
       "       0.17405013, 0.13724672, 0.12554014, 0.15142551, 0.13724672,\n",
       "       0.12554014, 0.15142551, 0.15142551, 0.15142551, 0.13724672,\n",
       "       0.18850137, 0.17405013, 0.10299748, 0.17405013, 0.17405013,\n",
       "       0.10299748, 0.17405013, 0.15713131, 0.13724672, 0.17405013,\n",
       "       0.15713131, 0.15713131, 0.15142551, 0.13724672, 0.17405013,\n",
       "       0.15142551, 0.15142551, 0.12554014, 0.15142551, 0.17405013,\n",
       "       0.12554014, 0.13724672, 0.15142551, 0.17405013, 0.12554014,\n",
       "       0.12554014, 0.15142551, 0.12554014, 0.15142551, 0.12554014,\n",
       "       0.15142551, 0.12554014, 0.09641543, 0.13724672, 0.13724672,\n",
       "       0.15142551, 0.13724672, 0.13724672, 0.15142551, 0.10299748,\n",
       "       0.13724672, 0.12554014, 0.10299748, 0.12554014, 0.13724672,\n",
       "       0.13724672, 0.12554014, 0.12554014, 0.13724672, 0.12554014,\n",
       "       0.13724672, 0.10299748, 0.10299748, 0.10299748, 0.12554014,\n",
       "       0.09641543, 0.13724672, 0.12554014, 0.10299748, 0.12554014,\n",
       "       0.17405013, 0.17405013, 0.17405013, 0.10299748, 0.10299748,\n",
       "       0.15142551, 0.17405013, 0.15142551, 0.13724672, 0.13724672,\n",
       "       0.10299748, 0.13724672, 0.17405013, 0.17405013, 0.10299748,\n",
       "       0.10299748, 0.12554014, 0.09641543, 0.13724672, 0.13724672,\n",
       "       0.15142551, 0.17405013, 0.15142551, 0.12554014, 0.15142551,\n",
       "       0.12554014, 0.10299748, 0.15142551, 0.13724672, 0.15142551,\n",
       "       0.13724672, 0.12554014, 0.12554014, 0.13724672, 0.12554014,\n",
       "       0.13724672, 0.12554014, 0.13724672, 0.15142551, 0.10299748,\n",
       "       0.15142551, 0.15142551, 0.12554014, 0.15142551, 0.12554014,\n",
       "       0.12554014, 0.13724672, 0.09641543, 0.17405013, 0.12554014,\n",
       "       0.15142551, 0.15142551, 0.10299748, 0.15142551, 0.13724672,\n",
       "       0.17405013, 0.15713131, 0.17405013, 0.13724672, 0.15142551,\n",
       "       0.12554014, 0.12554014, 0.13724672, 0.09641543, 0.10299748,\n",
       "       0.12554014, 0.13724672, 0.15142551, 0.10299748, 0.13724672,\n",
       "       0.12554014, 0.13724672, 0.17405013, 0.10299748, 0.13724672,\n",
       "       0.13724672, 0.13724672, 0.13724672, 0.09641543, 0.17405013,\n",
       "       0.10299748, 0.13724672, 0.15142551, 0.17405013, 0.09641543,\n",
       "       0.10299748, 0.10299748, 0.15142551, 0.09641543, 0.10299748,\n",
       "       0.12554014, 0.13724672, 0.10299748, 0.09641543, 0.15142551,\n",
       "       0.10299748, 0.10299748, 0.12554014, 0.12554014, 0.13724672,\n",
       "       0.10299748, 0.12554014, 0.12554014, 0.13724672, 0.10299748,\n",
       "       0.12554014, 0.13724672, 0.09641543, 0.09641543, 0.15142551,\n",
       "       0.13724672, 0.12554014, 0.15713131, 0.13724672, 0.15713131,\n",
       "       0.15142551, 0.15713131, 0.13724672, 0.13724672, 0.17405013,\n",
       "       0.12554014, 0.10299748, 0.12554014, 0.13724672, 0.12554014,\n",
       "       0.09641543, 0.13724672, 0.09641543, 0.13724672, 0.09641543,\n",
       "       0.12554014, 0.10299748, 0.09641543, 0.10299748, 0.13724672,\n",
       "       0.10299748, 0.09641543, 0.15713131, 0.12554014, 0.09641543,\n",
       "       0.12554014, 0.15142551, 0.12554014, 0.09641543, 0.10299748,\n",
       "       0.13724672, 0.10299748, 0.12554014, 0.10299748, 0.19365406,\n",
       "       0.15713131, 0.18850137, 0.15142551, 0.12554014, 0.10299748,\n",
       "       0.13724672, 0.10299748, 0.12554014, 0.13724672, 0.17405013,\n",
       "       0.12554014, 0.13724672, 0.09641543, 0.18850137, 0.15713131,\n",
       "       0.17405013, 0.12554014, 0.12554014, 0.15713131, 0.13724672,\n",
       "       0.15713131, 0.18850137, 0.15142551, 0.15713131, 0.15142551,\n",
       "       0.12493678, 0.18850137, 0.18850137, 0.12554014, 0.13724672,\n",
       "       0.13724672, 0.12554014, 0.15713131, 0.10299748, 0.15713131,\n",
       "       0.18850137, 0.12554014, 0.19365406, 0.13724672, 0.18850137,\n",
       "       0.15142551, 0.15713131, 0.15142551, 0.15142551, 0.17405013,\n",
       "       0.13724672, 0.13724672, 0.15713131, 0.13724672, 0.17405013,\n",
       "       0.15142551, 0.19365406, 0.18850137, 0.17405013, 0.15713131,\n",
       "       0.10299748, 0.17405013, 0.13724672, 0.10299748, 0.15142551,\n",
       "       0.12554014, 0.15142551, 0.15142551, 0.15142551, 0.15713131,\n",
       "       0.15142551, 0.17405013, 0.12554014, 0.15142551, 0.12554014,\n",
       "       0.12554014, 0.17405013, 0.17405013, 0.12554014, 0.15142551,\n",
       "       0.18850137, 0.17405013, 0.15713131, 0.18850137, 0.19365406,\n",
       "       0.15713131, 0.19365406, 0.19365406, 0.13724672, 0.15713131,\n",
       "       0.19365406, 0.12493678, 0.19365406, 0.12493678, 0.15713131,\n",
       "       0.18850137, 0.10299748, 0.15142551, 0.15713131, 0.15142551,\n",
       "       0.18850137, 0.15713131, 0.13724672, 0.18850137, 0.15142551,\n",
       "       0.18850137, 0.15713131, 0.17405013, 0.18850137, 0.18850137,\n",
       "       0.13724672, 0.15713131, 0.15713131, 0.10299748, 0.13724672,\n",
       "       0.13724672, 0.15713131, 0.15713131, 0.15142551, 0.10299748,\n",
       "       0.15142551, 0.17405013, 0.17405013, 0.15713131, 0.17405013,\n",
       "       0.13724672, 0.10299748, 0.13724672, 0.13724672, 0.15713131,\n",
       "       0.15142551, 0.17405013, 0.10299748, 0.12554014, 0.10299748,\n",
       "       0.18850137, 0.12554014, 0.13724672, 0.17405013, 0.18850137,\n",
       "       0.13724672, 0.18850137, 0.15713131, 0.15713131, 0.15142551,\n",
       "       0.13724672, 0.17405013, 0.10299748, 0.15142551, 0.12554014,\n",
       "       0.17405013, 0.15142551, 0.19365406, 0.15142551, 0.15142551,\n",
       "       0.15142551, 0.13724672, 0.09641543, 0.12554014, 0.13724672,\n",
       "       0.13724672, 0.12554014, 0.15142551, 0.12554014, 0.18850137,\n",
       "       0.12493678, 0.18850137, 0.19365406, 0.19365406, 0.12493678,\n",
       "       0.19365406, 0.17405013, 0.18850137, 0.19365406, 0.13724672,\n",
       "       0.19365406, 0.17405013, 0.15713131, 0.18850137, 0.15142551,\n",
       "       0.17405013, 0.12493678, 0.17405013, 0.12554014, 0.17405013,\n",
       "       0.18850137, 0.15713131, 0.12554014, 0.17405013, 0.09641543,\n",
       "       0.13724672, 0.12554014, 0.18850137])"
      ]
     },
     "execution_count": 19,
     "metadata": {},
     "output_type": "execute_result"
    }
   ],
   "source": [
    "np.array(Stds).flatten()"
   ]
  },
  {
   "cell_type": "markdown",
   "id": "2db51d04",
   "metadata": {},
   "source": [
    "##### For no Memory"
   ]
  },
  {
   "cell_type": "code",
   "execution_count": 20,
   "id": "6b5b88d1",
   "metadata": {},
   "outputs": [],
   "source": [
    "Means_0 = list()\n",
    "Stds_0 = list()\n",
    "TrueValues_0 = list()\n",
    "LastValues_0 = list()\n",
    "K_Length_0 = 0\n",
    "L_0 = len(X)-K_Length_0-1\n",
    "\n",
    "\n",
    "for i in range(L_0):\n",
    "    TrueValues_0 = TrueValues_0 +  [X[-L_0+i+1]]\n",
    "    mn, st = Prediction_mean_std(X[:-L_0+i], D1D2_0, Kernel, Binning=np_vars[\"edgesX_B10.npy\"],\n",
    "                           deltaT = 1, K = K_Length_0)\n",
    "   \n",
    "    Means_0 = Means_0 + [mn]\n",
    "    Stds_0 = Stds_0 + [st]\n"
   ]
  },
  {
   "cell_type": "markdown",
   "id": "3857758e",
   "metadata": {},
   "source": [
    "### Some Confidence Interval Checks"
   ]
  },
  {
   "cell_type": "code",
   "execution_count": 21,
   "id": "da2b0b27",
   "metadata": {},
   "outputs": [
    {
     "name": "stdout",
     "output_type": "stream",
     "text": [
      "0.6951476793248945\n"
     ]
    }
   ],
   "source": [
    "LowerCI = np.array(Means)-np.array(Stds) \n",
    "UpperCI = np.array(Means)+np.array(Stds) \n",
    "ArrayTrueValues = np.array(TrueValues)\n",
    "\n",
    "LCI_Check = 1.0*(LowerCI<ArrayTrueValues)\n",
    "UCI_Check =1.0*(UpperCI>ArrayTrueValues)\n",
    "\n",
    "InCI = LCI_Check * UCI_Check\n",
    "print(np.mean(InCI))"
   ]
  },
  {
   "cell_type": "code",
   "execution_count": 22,
   "id": "baca7f6c",
   "metadata": {
    "scrolled": true
   },
   "outputs": [
    {
     "data": {
      "text/plain": [
       "948"
      ]
     },
     "execution_count": 22,
     "metadata": {},
     "output_type": "execute_result"
    }
   ],
   "source": [
    "len(TrueValues)"
   ]
  },
  {
   "cell_type": "code",
   "execution_count": 23,
   "id": "898743a2",
   "metadata": {},
   "outputs": [
    {
     "data": {
      "text/plain": [
       "952"
      ]
     },
     "execution_count": 23,
     "metadata": {},
     "output_type": "execute_result"
    }
   ],
   "source": [
    "len(X)"
   ]
  },
  {
   "cell_type": "code",
   "execution_count": 24,
   "id": "a5271fe9",
   "metadata": {},
   "outputs": [
    {
     "data": {
      "image/png": "[encoded data removed]",
      "text/plain": [
       "<Figure size 432x288 with 1 Axes>"
      ]
     },
     "metadata": {
      "needs_background": "light"
     },
     "output_type": "display_data"
    }
   ],
   "source": [
    "plt.scatter(TrueValues, LastValues, label=\"Naive Prediction\")\n",
    "plt.xlabel(\"True Values\")\n",
    "plt.ylabel(\"Last Values\")\n",
    "plt.plot([0,1],[0,1], label=\"Identity\", c =\"r\")\n",
    "plt.legend()\n",
    "plt.show()"
   ]
  },
  {
   "cell_type": "code",
   "execution_count": 25,
   "id": "904ecac2",
   "metadata": {},
   "outputs": [
    {
     "data": {
      "image/png": "[encoded data removed]",
      "text/plain": [
       "<Figure size 432x288 with 1 Axes>"
      ]
     },
     "metadata": {
      "needs_background": "light"
     },
     "output_type": "display_data"
    }
   ],
   "source": [
    "#plt.scatter(TrueValues, LastValues, label=\"Naive Forecast\", alpha = 0.5)\n",
    "plt.scatter(TrueValues_0, Means_0, label=\"Langevin without Kernel\", alpha = 0.5)\n",
    "plt.scatter(TrueValues, Means, label=\"Kernel Forecast\", alpha = 0.5)\n",
    "\n",
    "fs = 14\n",
    "plt.xlabel(\"True Values: Market Correlation\",fontsize = fs)\n",
    "plt.ylabel(\"One-Step Forecasts\",fontsize = fs)\n",
    "plt.plot([0,1],[0,1], label=\"Identity\", c =\"k\")\n",
    "plt.legend()\n",
    "plt.show()"
   ]
  },
  {
   "cell_type": "markdown",
   "id": "caee9252",
   "metadata": {},
   "source": [
    "#### Root Mean Square Error and R² Metrics"
   ]
  },
  {
   "cell_type": "code",
   "execution_count": 26,
   "id": "5a4d4f31",
   "metadata": {},
   "outputs": [
    {
     "data": {
      "text/plain": [
       "0.1320584871287953"
      ]
     },
     "execution_count": 26,
     "metadata": {},
     "output_type": "execute_result"
    }
   ],
   "source": [
    "np.sqrt(np.mean((np.array(TrueValues)-np.array(Means))**2.))"
   ]
  },
  {
   "cell_type": "code",
   "execution_count": 27,
   "id": "e4647142",
   "metadata": {},
   "outputs": [
    {
     "data": {
      "text/plain": [
       "0.16001485352115827"
      ]
     },
     "execution_count": 27,
     "metadata": {},
     "output_type": "execute_result"
    }
   ],
   "source": [
    "np.sqrt(np.mean((np.array(TrueValues)-np.array(LastValues))**2.))"
   ]
  },
  {
   "cell_type": "code",
   "execution_count": 28,
   "id": "6178edd1",
   "metadata": {},
   "outputs": [
    {
     "data": {
      "text/plain": [
       "0.44874110007884294"
      ]
     },
     "execution_count": 28,
     "metadata": {},
     "output_type": "execute_result"
    }
   ],
   "source": [
    "r2_score(y_true=TrueValues, y_pred=Means)"
   ]
  },
  {
   "cell_type": "code",
   "execution_count": 29,
   "id": "7d694e51",
   "metadata": {},
   "outputs": [
    {
     "data": {
      "text/plain": [
       "0.349004149166632"
      ]
     },
     "execution_count": 29,
     "metadata": {},
     "output_type": "execute_result"
    }
   ],
   "source": [
    "r2_score(y_true=TrueValues_0, y_pred=Means_0) #0.3487483090652824"
   ]
  },
  {
   "cell_type": "code",
   "execution_count": 30,
   "id": "a0d1d8ae",
   "metadata": {
    "scrolled": true
   },
   "outputs": [
    {
     "data": {
      "text/plain": [
       "0.19063657392809652"
      ]
     },
     "execution_count": 30,
     "metadata": {},
     "output_type": "execute_result"
    }
   ],
   "source": [
    "r2_score(y_true=TrueValues, y_pred=LastValues)"
   ]
  },
  {
   "cell_type": "markdown",
   "id": "33ffafee",
   "metadata": {},
   "source": [
    "# Out-Of-Sample Prediction"
   ]
  },
  {
   "cell_type": "code",
   "execution_count": 31,
   "id": "8d40d4b1",
   "metadata": {},
   "outputs": [
    {
     "data": {
      "text/plain": [
       "105"
      ]
     },
     "execution_count": 31,
     "metadata": {},
     "output_type": "execute_result"
    }
   ],
   "source": [
    "test_data = np_vars[\"SecondPart_WeeklyCorr.npy\"]\n",
    "len(test_data)"
   ]
  },
  {
   "cell_type": "code",
   "execution_count": 32,
   "id": "52354124",
   "metadata": {},
   "outputs": [
    {
     "data": {
      "image/png": "[encoded data removed]",
      "text/plain": [
       "<Figure size 432x288 with 1 Axes>"
      ]
     },
     "metadata": {
      "needs_background": "light"
     },
     "output_type": "display_data"
    }
   ],
   "source": [
    "X_full = np.concatenate([X,test_data])\n",
    "plt.plot(X_full)\n",
    "plt.show()"
   ]
  },
  {
   "cell_type": "code",
   "execution_count": 33,
   "id": "2da0592b",
   "metadata": {},
   "outputs": [],
   "source": [
    "Means_test = list()\n",
    "Stds_test = list()\n",
    "TrueValues_test = list()\n",
    "LastValues_test = list()\n",
    "L = len(test_data)+1  # +1 because first TrueValues is [X[-L+i+1]]\n",
    "\n",
    "\n",
    "for i in range(L):\n",
    "    TrueValues_test = TrueValues_test +  [X_full[-L+i+1]]\n",
    "    LastValues_test = LastValues_test+  [X_full[-L+i]]\n",
    "    mn, st = Prediction_mean_std(X_full[:-L+i], D1D2, Kernel, Binning=np_vars[\"edgesX_B10.npy\"],\n",
    "                           deltaT = 1, K = K_Length)\n",
    "   \n",
    "    Means_test = Means_test + [mn]\n",
    "    Stds_test = Stds_test + [st]\n"
   ]
  },
  {
   "cell_type": "code",
   "execution_count": 34,
   "id": "1bfb8024",
   "metadata": {},
   "outputs": [
    {
     "data": {
      "text/plain": [
       "1057"
      ]
     },
     "execution_count": 34,
     "metadata": {},
     "output_type": "execute_result"
    }
   ],
   "source": [
    "len(X_full)"
   ]
  },
  {
   "cell_type": "code",
   "execution_count": 35,
   "id": "c0bf2e33",
   "metadata": {},
   "outputs": [
    {
     "data": {
      "text/plain": [
       "[<matplotlib.lines.Line2D at 0x7f9744f62eb8>]"
      ]
     },
     "execution_count": 35,
     "metadata": {},
     "output_type": "execute_result"
    },
    {
     "data": {
      "image/png": "[encoded data removed]",
      "text/plain": [
       "<Figure size 432x288 with 1 Axes>"
      ]
     },
     "metadata": {
      "needs_background": "light"
     },
     "output_type": "display_data"
    }
   ],
   "source": [
    "plt.plot(X_full[:-L_0])"
   ]
  },
  {
   "cell_type": "markdown",
   "id": "cb5abfba",
   "metadata": {},
   "source": [
    "##### For no Memory"
   ]
  },
  {
   "cell_type": "code",
   "execution_count": 36,
   "id": "70898aad",
   "metadata": {},
   "outputs": [
    {
     "name": "stdout",
     "output_type": "stream",
     "text": [
      "105\n"
     ]
    }
   ],
   "source": [
    "Means_0_test = list()\n",
    "Stds_0_test = list()\n",
    "TrueValues_0_test = list()\n",
    "LastValues_0_test = list()\n",
    "K_Length_0 = 0\n",
    "L_0 = len(test_data)+1  # +1 because first TrueValues is [X[-L+i+1]]\n",
    "\n",
    "print(L_0-1)\n",
    "for i in range(L_0):\n",
    "\n",
    "    mn, st = Prediction_mean_std(X_full[:-L_0+i], D1D2_0, Kernel, Binning=np_vars[\"edgesX_B10.npy\"],\n",
    "                           deltaT = 1, K = K_Length_0)\n",
    "   \n",
    "    TrueValues_0_test = TrueValues_0_test +  [X_full[-L+i+1]]\n",
    "    Means_0_test = Means_0_test + [mn]\n",
    "    Stds_0_test = Stds_0_test + [st]\n"
   ]
  },
  {
   "cell_type": "code",
   "execution_count": 37,
   "id": "293a780a",
   "metadata": {},
   "outputs": [
    {
     "data": {
      "text/plain": [
       "(106, 106, 106)"
      ]
     },
     "execution_count": 37,
     "metadata": {},
     "output_type": "execute_result"
    }
   ],
   "source": [
    "len(TrueValues_0_test), len(Means_0_test), len(TrueValues_test)"
   ]
  },
  {
   "cell_type": "code",
   "execution_count": 38,
   "id": "e2e80763",
   "metadata": {
    "scrolled": true
   },
   "outputs": [
    {
     "data": {
      "image/png": "[encoded data removed]",
      "text/plain": [
       "<Figure size 432x288 with 1 Axes>"
      ]
     },
     "metadata": {
      "needs_background": "light"
     },
     "output_type": "display_data"
    }
   ],
   "source": [
    "#plt.scatter(TrueValues_test, LastValues_test, label=\"Naive Forecast\", alpha = 0.5)\n",
    "plt.scatter(TrueValues_0_test, Means_0_test, label=\"No Kernel\", alpha = 0.5)\n",
    "\n",
    "plt.scatter(TrueValues_test, Means_test, label=\"Kernel Forecast\", alpha = 0.5)\n",
    "\n",
    "fs = 14\n",
    "plt.xlabel(\"True Values: Market Correlation\",fontsize = fs)\n",
    "plt.ylabel(\"One-Step Forecasts\",fontsize = fs)\n",
    "plt.plot([0,1],[0,1], label=\"Identity\", c =\"k\")\n",
    "plt.legend()\n",
    "plt.show()"
   ]
  },
  {
   "cell_type": "markdown",
   "id": "285e0449",
   "metadata": {},
   "source": [
    "#### Root Mean Square Error and R² "
   ]
  },
  {
   "cell_type": "code",
   "execution_count": 39,
   "id": "eb38ad5d",
   "metadata": {},
   "outputs": [
    {
     "data": {
      "text/plain": [
       "0.20308709506861378"
      ]
     },
     "execution_count": 39,
     "metadata": {},
     "output_type": "execute_result"
    }
   ],
   "source": [
    "np.sqrt(np.mean((np.array(TrueValues_test)-np.array(Means_test))**2.))"
   ]
  },
  {
   "cell_type": "code",
   "execution_count": 40,
   "id": "ec62894c",
   "metadata": {},
   "outputs": [
    {
     "data": {
      "text/plain": [
       "0.2058229593832951"
      ]
     },
     "execution_count": 40,
     "metadata": {},
     "output_type": "execute_result"
    }
   ],
   "source": [
    "np.sqrt(np.mean((np.array(TrueValues_0_test)-np.array(Means_0_test))**2.))"
   ]
  },
  {
   "cell_type": "code",
   "execution_count": 41,
   "id": "0f2f60a0",
   "metadata": {},
   "outputs": [
    {
     "data": {
      "text/plain": [
       "0.22587837243543119"
      ]
     },
     "execution_count": 41,
     "metadata": {},
     "output_type": "execute_result"
    }
   ],
   "source": [
    "np.sqrt(np.mean((np.array(TrueValues_test)-np.array(LastValues_test))**2.))"
   ]
  },
  {
   "cell_type": "code",
   "execution_count": 42,
   "id": "233c1725",
   "metadata": {},
   "outputs": [
    {
     "data": {
      "text/plain": [
       "0.10451972177595992"
      ]
     },
     "execution_count": 42,
     "metadata": {},
     "output_type": "execute_result"
    }
   ],
   "source": [
    "r2_score(y_true=TrueValues_test, y_pred=Means_test)"
   ]
  },
  {
   "cell_type": "code",
   "execution_count": 43,
   "id": "c6a0ad89",
   "metadata": {},
   "outputs": [
    {
     "data": {
      "text/plain": [
       "0.08023049361428591"
      ]
     },
     "execution_count": 43,
     "metadata": {},
     "output_type": "execute_result"
    }
   ],
   "source": [
    "r2_score(y_true=TrueValues_0_test, y_pred=Means_0_test) # 0.07228434075280932"
   ]
  },
  {
   "cell_type": "code",
   "execution_count": 44,
   "id": "cacc53e5",
   "metadata": {},
   "outputs": [
    {
     "data": {
      "text/plain": [
       "-0.10774722298799988"
      ]
     },
     "execution_count": 44,
     "metadata": {},
     "output_type": "execute_result"
    }
   ],
   "source": [
    "r2_score(y_true=TrueValues_test, y_pred=LastValues_test)"
   ]
  },
  {
   "cell_type": "code",
   "execution_count": 45,
   "id": "172400ed",
   "metadata": {},
   "outputs": [
    {
     "data": {
      "text/plain": [
       "(0.2687380799137333, 0.11584862290253742)"
      ]
     },
     "execution_count": 45,
     "metadata": {},
     "output_type": "execute_result"
    }
   ],
   "source": [
    "Means_test[-1], TrueValues_test[-1]"
   ]
  },
  {
   "cell_type": "markdown",
   "id": "21091c06",
   "metadata": {},
   "source": [
    "### Again, CIs"
   ]
  },
  {
   "cell_type": "code",
   "execution_count": 46,
   "id": "38f3ac2d",
   "metadata": {},
   "outputs": [
    {
     "name": "stdout",
     "output_type": "stream",
     "text": [
      "0.5471698113207547\n"
     ]
    }
   ],
   "source": [
    "LowerCI_test = np.array(Means_test)-np.array(Stds_test) \n",
    "UpperCI_test = np.array(Means_test)+np.array(Stds_test) \n",
    "ArrayTrueValues_test = np.array(TrueValues_test)\n",
    "\n",
    "LCI_Check_test = 1.0*(LowerCI_test<ArrayTrueValues_test)\n",
    "UCI_Check_test =1.0*(UpperCI_test>ArrayTrueValues_test)\n",
    "\n",
    "InCI_test = LCI_Check_test * UCI_Check_test\n",
    "print(np.mean(InCI_test))"
   ]
  },
  {
   "cell_type": "code",
   "execution_count": null,
   "id": "e5ba258a",
   "metadata": {},
   "outputs": [],
   "source": []
  },
  {
   "cell_type": "code",
   "execution_count": null,
   "id": "6c2544ed",
   "metadata": {},
   "outputs": [],
   "source": []
  },
  {
   "cell_type": "code",
   "execution_count": null,
   "id": "ddf3d5a5",
   "metadata": {},
   "outputs": [],
   "source": []
  },
  {
   "cell_type": "code",
   "execution_count": null,
   "id": "cb5b2964",
   "metadata": {},
   "outputs": [],
   "source": []
  }
 ],
 "metadata": {
  "kernelspec": {
   "display_name": "Python 3 (ipykernel)",
   "language": "python",
   "name": "python3"
  },
  "language_info": {
   "codemirror_mode": {
    "name": "ipython",
    "version": 3
   },
   "file_extension": ".py",
   "mimetype": "text/x-python",
   "name": "python",
   "nbconvert_exporter": "python",
   "pygments_lexer": "ipython3",
   "version": "3.7.3"
  }
 },
 "nbformat": 4,
 "nbformat_minor": 5
}
